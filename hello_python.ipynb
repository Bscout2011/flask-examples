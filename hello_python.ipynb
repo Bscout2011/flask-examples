{
 "cells": [
  {
   "cell_type": "markdown",
   "metadata": {},
   "source": [
    "# Python3 Introduction"
   ]
  },
  {
   "cell_type": "markdown",
   "metadata": {},
   "source": [
    "A little girl goes into a pet show and asks for a wabbit. The shop keeper looks down at her, smiles and says:\n",
    "\n",
    "\"Would you like a lovely fluffy little white rabbit, or a cutesy wootesly little brown rabbit?\"\n",
    "\n",
    "\"Actually\", says the little girl, \"I don't think my python would notice.\""
   ]
  },
  {
   "cell_type": "code",
   "execution_count": 9,
   "metadata": {},
   "outputs": [
    {
     "name": "stdout",
     "output_type": "stream",
     "text": [
      "Hello World\n"
     ]
    },
    {
     "data": {
      "text/plain": [
       "'Hello World'"
      ]
     },
     "execution_count": 9,
     "metadata": {},
     "output_type": "execute_result"
    }
   ],
   "source": [
    "x = \"Hello World\"\n",
    "print(x)\n",
    "x"
   ]
  },
  {
   "cell_type": "markdown",
   "metadata": {},
   "source": [
    "Python is an interpretted language. You type code, an interpretter translates into machine code, then outputs.\n",
    "\n",
    "Can run in the REPL terminal (Read Evaluate Print Line) or Jupyter Notebook.\n",
    "\n",
    "White space is very important. Conditional logic, loops, classes use white space to define scope."
   ]
  },
  {
   "cell_type": "code",
   "execution_count": 10,
   "metadata": {},
   "outputs": [
    {
     "name": "stdout",
     "output_type": "stream",
     "text": [
      "Goodbye\n"
     ]
    }
   ],
   "source": [
    "x = \"Go away\"\n",
    "if x == \"Hello World\":\n",
    "    print(x)\n",
    "else:\n",
    "    print(\"Goodbye\")"
   ]
  },
  {
   "cell_type": "markdown",
   "metadata": {},
   "source": [
    "Printing all elements in a `set()` of unique elements."
   ]
  },
  {
   "cell_type": "code",
   "execution_count": 11,
   "metadata": {},
   "outputs": [
    {
     "name": "stdout",
     "output_type": "stream",
     "text": [
      "0: Hello.\n",
      "1: How are you?\n",
      "2: Goodbye.\n"
     ]
    }
   ],
   "source": [
    "greetings = (\"Hello.\", \"How are you?\", \"Goodbye.\")\n",
    "for i, x in enumerate(greetings):\n",
    "    print(str(i) + \": \" + x)"
   ]
  },
  {
   "cell_type": "code",
   "execution_count": 12,
   "metadata": {},
   "outputs": [
    {
     "data": {
      "text/plain": [
       "'How are you?'"
      ]
     },
     "execution_count": 12,
     "metadata": {},
     "output_type": "execute_result"
    }
   ],
   "source": [
    "greetings[1]"
   ]
  },
  {
   "cell_type": "markdown",
   "metadata": {},
   "source": [
    "Same program using *list comprehension*."
   ]
  },
  {
   "cell_type": "code",
   "execution_count": 13,
   "metadata": {},
   "outputs": [
    {
     "name": "stdout",
     "output_type": "stream",
     "text": [
      "0: Hello.\n",
      "1: How are you?\n",
      "2: Goodbye.\n"
     ]
    },
    {
     "data": {
      "text/plain": [
       "[None, None, None]"
      ]
     },
     "execution_count": 13,
     "metadata": {},
     "output_type": "execute_result"
    }
   ],
   "source": [
    "[print(str(i) + \": \" + x) for i, x in enumerate(greetings)]"
   ]
  },
  {
   "cell_type": "markdown",
   "metadata": {},
   "source": [
    "`range(start, end)` creates an iterator of integers from `start` to `end-1`.\n",
    "\n",
    "For example: create a `list` of all numbers between 2032 and 3202 which are divisible by 3 but not a multiple of 5."
   ]
  },
  {
   "cell_type": "code",
   "execution_count": 14,
   "metadata": {},
   "outputs": [
    {
     "data": {
      "text/plain": [
       "312"
      ]
     },
     "execution_count": 14,
     "metadata": {},
     "output_type": "execute_result"
    }
   ],
   "source": [
    "ex1 = [x for x in range(2032, 3202) if x%3 == 0 and x%5 != 0]\n",
    "len(ex1)"
   ]
  },
  {
   "cell_type": "markdown",
   "metadata": {},
   "source": [
    "`dict{key: value}` dictionaries store `key:value` pairs. Keys are unique. Values can be whatever.\n",
    "\n",
    "For example: create a dictionary of word counts for the following statement"
   ]
  },
  {
   "cell_type": "code",
   "execution_count": 15,
   "metadata": {},
   "outputs": [],
   "source": [
    "s = \"Lorem ipsum dolor sit sit amet, consectetur adipiscing elit, \\\n",
    "     sed do eiusmod tempor incididunt ut labore et dolore magna aliqua. \\\n",
    "     Ut enim ad minim veniam, quis nostrud exercitation ullamco laboris \\\n",
    "     nisi ut aliquip ex ea commodo consequat. Duis aute irure dolor in \\\n",
    "     reprehenderit in voluptate velit esse cillum dolore eu fugiat nulla \\\n",
    "     pariatur. Excepteur sint occaecat cupidatat non proident, sunt in \\\n",
    "     culpa qui officia deserunt mollit anim id est laborum.\"\n",
    "     "
   ]
  },
  {
   "cell_type": "code",
   "execution_count": 16,
   "metadata": {},
   "outputs": [
    {
     "name": "stdout",
     "output_type": "stream",
     "text": [
      "Number of words 70\n",
      "Number of unique words 64\n"
     ]
    }
   ],
   "source": [
    "def word_count(s):\n",
    "    words = s.split()   # split the string by white space ' '\n",
    "    print(f\"Number of words {len(words)}\")\n",
    "    word_dict = dict()  # create an empty dictionary\n",
    "    \n",
    "    for word in words:  # iterate through all the words\n",
    "        if word in word_dict:   # if the word is in the dictionary, add plus 1 to the count\n",
    "            word_dict[word] = word_dict[word] + 1\n",
    "        else:           # otherwise add the word to the dictionary with count 1\n",
    "            word_dict[word] = 1\n",
    "    print(f\"Number of unique words {len(word_dict)}\")\n",
    "    return word_dict\n",
    "\n",
    "latin_dict = word_count(s)"
   ]
  },
  {
   "cell_type": "markdown",
   "metadata": {},
   "source": [
    "Which word occurs the most?"
   ]
  },
  {
   "cell_type": "code",
   "execution_count": 17,
   "metadata": {},
   "outputs": [
    {
     "name": "stdout",
     "output_type": "stream",
     "text": [
      "in: 3\n"
     ]
    }
   ],
   "source": [
    "max_word = max(latin_dict, key=latin_dict.get)\n",
    "print(f\"{max_word}: {latin_dict[max_word]}\")"
   ]
  },
  {
   "cell_type": "markdown",
   "metadata": {},
   "source": [
    "# Numpy\n",
    "\n",
    "Useful for array calculations, *i.e.*, everything in engineering.\n",
    "\n",
    "For example: compute $e^x$\n",
    "\n",
    "$$\n",
    "e^x = \\sum_{n=0}^{\\infty} \\frac{x^n}{n!} = 1 + x + \\frac{x^2}{2} + \\frac{x^3}{6} + \\cdots\n",
    "$$"
   ]
  },
  {
   "cell_type": "code",
   "execution_count": 18,
   "metadata": {},
   "outputs": [],
   "source": [
    "from math import e, factorial\n",
    "import numpy as np\n",
    "import matplotlib.pyplot as plt  # plotting"
   ]
  },
  {
   "cell_type": "code",
   "execution_count": 19,
   "metadata": {},
   "outputs": [
    {
     "data": {
      "image/png": "[encoded data removed]",
      "text/plain": [
       "<Figure size 432x288 with 1 Axes>"
      ]
     },
     "metadata": {
      "needs_background": "light"
     },
     "output_type": "display_data"
    }
   ],
   "source": [
    "fac = np.vectorize(factorial)\n",
    "\n",
    "def e_x(x, terms=10):\n",
    "    n = np.arange(terms)\n",
    "    return np.sum((x**n) / fac(n))  # This is the meat of the program. Check out the broadcasting.\n",
    "\n",
    "# Get Numerical Data\n",
    "def calculate_e_and_plot(power, N=14):\n",
    "    x = range(1, N)\n",
    "    maclaurin = [e_x(power, terms=n) for n in x]\n",
    "    error = [np.real(e**power - estimate) for estimate in maclaurin]\n",
    "\n",
    "    # Plotting stuff\n",
    "    ax = plt.subplot()\n",
    "    ax.plot(x, maclaurin, label=\"Maclaurin\")\n",
    "    ax.plot(x, error, label=\"Error\")\n",
    "    ax.axhline(np.real(e**power), color='r', linestyle=\"--\", label=rf\"$exp({power})$\")\n",
    "    ax.set_xlabel(\"n\")\n",
    "    ax.set_ylabel(\"Value\")\n",
    "    ax.set_title(rf\"Estimating $exp({power})$ with a polynomial.\")\n",
    "    ax.legend();\n",
    "\n",
    "calculate_e_and_plot(3, 14)"
   ]
  },
  {
   "cell_type": "markdown",
   "metadata": {},
   "source": [
    "Another example\n",
    "$$\n",
    "e^{i \\pi} = -1\n",
    "$$"
   ]
  },
  {
   "cell_type": "code",
   "execution_count": 20,
   "metadata": {},
   "outputs": [
    {
     "name": "stderr",
     "output_type": "stream",
     "text": [
      "/home/alw/flask-examples/venv/lib/python3.7/site-packages/matplotlib/cbook/__init__.py:1333: ComplexWarning: Casting complex values to real discards the imaginary part\n",
      "  return np.asarray(x, float)\n"
     ]
    },
    {
     "data": {
      "image/png": "[encoded data removed]",
      "text/plain": [
       "<Figure size 432x288 with 1 Axes>"
      ]
     },
     "metadata": {
      "needs_background": "light"
     },
     "output_type": "display_data"
    }
   ],
   "source": [
    "cx = (np.pi)*1j\n",
    "calculate_e_and_plot(cx)"
   ]
  },
  {
   "cell_type": "code",
   "execution_count": 21,
   "metadata": {},
   "outputs": [
    {
     "name": "stdout",
     "output_type": "stream",
     "text": [
      "0\n"
     ]
    }
   ],
   "source": [
    "x = 0\n",
    "if x != 0 and not (x % 2):\n",
    "    print(True)\n",
    "else:\n",
    "    print(x)\n"
   ]
  },
  {
   "cell_type": "code",
   "execution_count": 32,
   "metadata": {},
   "outputs": [
    {
     "data": {
      "text/plain": [
       "array([0, 2, 4, 6, 8])"
      ]
     },
     "execution_count": 32,
     "metadata": {},
     "output_type": "execute_result"
    }
   ],
   "source": [
    "x = np.arange(10)\n",
    "y = x % 2 == 0\n",
    "x[y]"
   ]
  },
  {
   "cell_type": "markdown",
   "metadata": {},
   "source": [
    "## Explore more!"
   ]
  },
  {
   "cell_type": "code",
   "execution_count": 23,
   "metadata": {},
   "outputs": [],
   "source": [
    "from PIL import Image\n",
    "import ipywidgets as widgets\n",
    "poppy = Image.open(\"poppy.png\")\n",
    "poppy.thumbnail((256,256), Image.ANTIALIAS)"
   ]
  },
  {
   "cell_type": "code",
   "execution_count": 24,
   "metadata": {},
   "outputs": [
    {
     "data": {
      "application/vnd.jupyter.widget-view+json": {
       "model_id": "be0910937ec845049ce0ee2486f536f0",
       "version_major": 2,
       "version_minor": 0
      },
      "text/plain": [
       "interactive(children=(IntSlider(value=0, description='theta', max=360), Output()), _dom_classes=('widget-inter…"
      ]
     },
     "metadata": {},
     "output_type": "display_data"
    },
    {
     "data": {
      "text/plain": [
       "<function __main__.puppy(theta)>"
      ]
     },
     "execution_count": 24,
     "metadata": {},
     "output_type": "execute_result"
    }
   ],
   "source": [
    "def puppy(theta):\n",
    "    return poppy.rotate(theta)\n",
    "widgets.interact(puppy, theta=widgets.IntSlider(0, 0, 360))"
   ]
  },
  {
   "cell_type": "code",
   "execution_count": null,
   "metadata": {},
   "outputs": [],
   "source": []
  }
 ],
 "metadata": {
  "interpreter": {
   "hash": "31f2aee4e71d21fbe5cf8b01ff0e069b9275f58929596ceb00d14d90e3e16cd6"
  },
  "kernelspec": {
   "display_name": "Python 3.7.5 64-bit",
   "language": "python",
   "name": "python3"
  },
  "language_info": {
   "codemirror_mode": {
    "name": "ipython",
    "version": 3
   },
   "file_extension": ".py",
   "mimetype": "text/x-python",
   "name": "python",
   "nbconvert_exporter": "python",
   "pygments_lexer": "ipython3",
   "version": "3.7.5"
  },
  "orig_nbformat": 4
 },
 "nbformat": 4,
 "nbformat_minor": 2
}
